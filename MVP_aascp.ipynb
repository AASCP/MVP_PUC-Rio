{
  "nbformat": 4,
  "nbformat_minor": 0,
  "metadata": {
    "colab": {
      "provenance": [],
      "authorship_tag": "ABX9TyPOVf2OEgcQIiv2wXWksXM+",
      "include_colab_link": true
    },
    "kernelspec": {
      "name": "python3",
      "display_name": "Python 3"
    },
    "language_info": {
      "name": "python"
    }
  },
  "cells": [
    {
      "cell_type": "markdown",
      "metadata": {
        "id": "view-in-github",
        "colab_type": "text"
      },
      "source": [
        "<a href=\"https://colab.research.google.com/github/AASCP/MVP_PUC-Rio/blob/main/MVP_aascp.ipynb\" target=\"_parent\"><img src=\"https://colab.research.google.com/assets/colab-badge.svg\" alt=\"Open In Colab\"/></a>"
      ]
    },
    {
      "cell_type": "code",
      "execution_count": null,
      "metadata": {
        "id": "ks7-leeDD6Do"
      },
      "outputs": [],
      "source": []
    },
    {
      "cell_type": "markdown",
      "source": [
        "# **MVP - PRECIFICAÇÃO DE VALOR DE MERCADO JOGADORES DE FUTEBOL**\n",
        "### Antonio Adolpho Pereira"
      ],
      "metadata": {
        "id": "CPYQpzvSIpH3"
      }
    },
    {
      "cell_type": "markdown",
      "source": [
        "# 1. Definição do Problema"
      ],
      "metadata": {
        "id": "K7kvNjyOLADV"
      }
    },
    {
      "cell_type": "markdown",
      "source": [
        "Segundo dados da FIFA (Fédération Internationale de Football Association), o futebol mundial transaciona anualmente cifras significativas, chegando a  US$286 bilhões. Estes valores estão concentrados em clubes do continente europeu e são equivalentes ao Produto Interno Bruno da Finlândia (49º no ranking mundial, segundo projeções do Banco Mundial).\n",
        "\n",
        "A UEFA (Union of European Football Associations), por sua vez, diante do expressivo aumento dos custos necessários para se competir nas principais ligas mundiais, e objetivando tanto melhorar a condição financeira dos clubes de futebol e quanto tornar o mercado como um todo mais estável e sólido, criou uma regulamentação que ficou conhecida como Fair Play Financeiro.\n",
        "\n",
        "Diante disto, a montagem de equipes profissionais que sejam simultaneamente competitivas e respeitem os limites financeiros estabelecidos torna-se um desafio em que os processos relacionados à correta valoração dos atletas profissionais passam a ganhar destaque na criação de valor para os clubes profissionais.\n",
        "\n",
        "Isto posto, o objetivo deste trabalho é prever se um jogador de futebol profissional está subvalorizado, corretamente precificado ou supervalorizado, com base em um conjunto de atributos pessoais, do clube a qual pertence. Para isto, será utilizada a base de dados UEFA EURO 2024 - Players, disponível no link https://www.kaggle.com/datasets/damirdizdarevic/uefa-euro-2024-players"
      ],
      "metadata": {
        "id": "fR22PHLJMJdO"
      }
    },
    {
      "cell_type": "code",
      "source": [
        "# Configuração para não exibir os warnings\n",
        "import warnings\n",
        "warnings.filterwarnings(\"ignore\")\n",
        "\n",
        "# Imports necessários\n",
        "import pandas as pd\n",
        "import numpy as np\n",
        "import matplotlib.pyplot as plt\n",
        "import seaborn as sns\n",
        "\n",
        "from sklearn.model_selection import train_test_split, cross_val_score\n",
        "from sklearn.model_selection import KFold\n",
        "from sklearn.model_selection import GridSearchCV\n",
        "\n",
        "from sklearn.linear_model import LinearRegression\n",
        "from sklearn.tree import DecisionTreeRegressor\n",
        "from sklearn.ensemble import RandomForestRegressor\n",
        "from sklearn.metrics import mean_absolute_error, mean_squared_error, r2_score\n",
        "from sklearn.preprocessing import StandardScaler, MinMaxScaler\n"
      ],
      "metadata": {
        "id": "siXCV60m0T3G"
      },
      "execution_count": 167,
      "outputs": []
    },
    {
      "cell_type": "markdown",
      "source": [
        "# 2. Carga de Dados"
      ],
      "metadata": {
        "id": "nzKa4LVAK-0e"
      }
    },
    {
      "cell_type": "code",
      "source": [
        "# URL de importação do dataset\n",
        "url = \"https://raw.githubusercontent.com/AASCP/MVP_PUC-Rio/refs/heads/main/euro2024_players.csv\"\n",
        "\n",
        "# Leitura do arquivo\n",
        "dataset = pd.read_csv(url, delimiter=',')\n",
        "\n",
        "# Apresentação da estrutura do dataset (primeiras linhas)\n",
        "dataset.head()"
      ],
      "metadata": {
        "colab": {
          "base_uri": "https://localhost:8080/",
          "height": 206
        },
        "id": "EfBSqt_PpckF",
        "outputId": "6f8baa38-2c3c-4569-f3db-d513313b9062"
      },
      "execution_count": 143,
      "outputs": [
        {
          "output_type": "execute_result",
          "data": {
            "text/plain": [
              "                    Name     Position  Age                 Club  Height  \\\n",
              "0  Marc-André ter Stegen   Goalkeeper   32         FC Barcelona     187   \n",
              "1           Manuel Neuer   Goalkeeper   38        Bayern Munich     193   \n",
              "2         Oliver Baumann   Goalkeeper   34  TSG 1899 Hoffenheim     187   \n",
              "3     Nico Schlotterbeck  Centre-Back   24    Borussia Dortmund     191   \n",
              "4           Jonathan Tah  Centre-Back   28  Bayer 04 Leverkusen     195   \n",
              "\n",
              "    Foot  Caps  Goals  MarketValue  Country  \n",
              "0  right    40      0     28000000  Germany  \n",
              "1  right   119      0      4000000  Germany  \n",
              "2  right     0      0      3000000  Germany  \n",
              "3   left    12      0     40000000  Germany  \n",
              "4  right    25      0     30000000  Germany  "
            ],
            "text/html": [
              "\n",
              "  <div id=\"df-056acd7b-749f-4b88-8257-1624611666bb\" class=\"colab-df-container\">\n",
              "    <div>\n",
              "<style scoped>\n",
              "    .dataframe tbody tr th:only-of-type {\n",
              "        vertical-align: middle;\n",
              "    }\n",
              "\n",
              "    .dataframe tbody tr th {\n",
              "        vertical-align: top;\n",
              "    }\n",
              "\n",
              "    .dataframe thead th {\n",
              "        text-align: right;\n",
              "    }\n",
              "</style>\n",
              "<table border=\"1\" class=\"dataframe\">\n",
              "  <thead>\n",
              "    <tr style=\"text-align: right;\">\n",
              "      <th></th>\n",
              "      <th>Name</th>\n",
              "      <th>Position</th>\n",
              "      <th>Age</th>\n",
              "      <th>Club</th>\n",
              "      <th>Height</th>\n",
              "      <th>Foot</th>\n",
              "      <th>Caps</th>\n",
              "      <th>Goals</th>\n",
              "      <th>MarketValue</th>\n",
              "      <th>Country</th>\n",
              "    </tr>\n",
              "  </thead>\n",
              "  <tbody>\n",
              "    <tr>\n",
              "      <th>0</th>\n",
              "      <td>Marc-André ter Stegen</td>\n",
              "      <td>Goalkeeper</td>\n",
              "      <td>32</td>\n",
              "      <td>FC Barcelona</td>\n",
              "      <td>187</td>\n",
              "      <td>right</td>\n",
              "      <td>40</td>\n",
              "      <td>0</td>\n",
              "      <td>28000000</td>\n",
              "      <td>Germany</td>\n",
              "    </tr>\n",
              "    <tr>\n",
              "      <th>1</th>\n",
              "      <td>Manuel Neuer</td>\n",
              "      <td>Goalkeeper</td>\n",
              "      <td>38</td>\n",
              "      <td>Bayern Munich</td>\n",
              "      <td>193</td>\n",
              "      <td>right</td>\n",
              "      <td>119</td>\n",
              "      <td>0</td>\n",
              "      <td>4000000</td>\n",
              "      <td>Germany</td>\n",
              "    </tr>\n",
              "    <tr>\n",
              "      <th>2</th>\n",
              "      <td>Oliver Baumann</td>\n",
              "      <td>Goalkeeper</td>\n",
              "      <td>34</td>\n",
              "      <td>TSG 1899 Hoffenheim</td>\n",
              "      <td>187</td>\n",
              "      <td>right</td>\n",
              "      <td>0</td>\n",
              "      <td>0</td>\n",
              "      <td>3000000</td>\n",
              "      <td>Germany</td>\n",
              "    </tr>\n",
              "    <tr>\n",
              "      <th>3</th>\n",
              "      <td>Nico Schlotterbeck</td>\n",
              "      <td>Centre-Back</td>\n",
              "      <td>24</td>\n",
              "      <td>Borussia Dortmund</td>\n",
              "      <td>191</td>\n",
              "      <td>left</td>\n",
              "      <td>12</td>\n",
              "      <td>0</td>\n",
              "      <td>40000000</td>\n",
              "      <td>Germany</td>\n",
              "    </tr>\n",
              "    <tr>\n",
              "      <th>4</th>\n",
              "      <td>Jonathan Tah</td>\n",
              "      <td>Centre-Back</td>\n",
              "      <td>28</td>\n",
              "      <td>Bayer 04 Leverkusen</td>\n",
              "      <td>195</td>\n",
              "      <td>right</td>\n",
              "      <td>25</td>\n",
              "      <td>0</td>\n",
              "      <td>30000000</td>\n",
              "      <td>Germany</td>\n",
              "    </tr>\n",
              "  </tbody>\n",
              "</table>\n",
              "</div>\n",
              "    <div class=\"colab-df-buttons\">\n",
              "\n",
              "  <div class=\"colab-df-container\">\n",
              "    <button class=\"colab-df-convert\" onclick=\"convertToInteractive('df-056acd7b-749f-4b88-8257-1624611666bb')\"\n",
              "            title=\"Convert this dataframe to an interactive table.\"\n",
              "            style=\"display:none;\">\n",
              "\n",
              "  <svg xmlns=\"http://www.w3.org/2000/svg\" height=\"24px\" viewBox=\"0 -960 960 960\">\n",
              "    <path d=\"M120-120v-720h720v720H120Zm60-500h600v-160H180v160Zm220 220h160v-160H400v160Zm0 220h160v-160H400v160ZM180-400h160v-160H180v160Zm440 0h160v-160H620v160ZM180-180h160v-160H180v160Zm440 0h160v-160H620v160Z\"/>\n",
              "  </svg>\n",
              "    </button>\n",
              "\n",
              "  <style>\n",
              "    .colab-df-container {\n",
              "      display:flex;\n",
              "      gap: 12px;\n",
              "    }\n",
              "\n",
              "    .colab-df-convert {\n",
              "      background-color: #E8F0FE;\n",
              "      border: none;\n",
              "      border-radius: 50%;\n",
              "      cursor: pointer;\n",
              "      display: none;\n",
              "      fill: #1967D2;\n",
              "      height: 32px;\n",
              "      padding: 0 0 0 0;\n",
              "      width: 32px;\n",
              "    }\n",
              "\n",
              "    .colab-df-convert:hover {\n",
              "      background-color: #E2EBFA;\n",
              "      box-shadow: 0px 1px 2px rgba(60, 64, 67, 0.3), 0px 1px 3px 1px rgba(60, 64, 67, 0.15);\n",
              "      fill: #174EA6;\n",
              "    }\n",
              "\n",
              "    .colab-df-buttons div {\n",
              "      margin-bottom: 4px;\n",
              "    }\n",
              "\n",
              "    [theme=dark] .colab-df-convert {\n",
              "      background-color: #3B4455;\n",
              "      fill: #D2E3FC;\n",
              "    }\n",
              "\n",
              "    [theme=dark] .colab-df-convert:hover {\n",
              "      background-color: #434B5C;\n",
              "      box-shadow: 0px 1px 3px 1px rgba(0, 0, 0, 0.15);\n",
              "      filter: drop-shadow(0px 1px 2px rgba(0, 0, 0, 0.3));\n",
              "      fill: #FFFFFF;\n",
              "    }\n",
              "  </style>\n",
              "\n",
              "    <script>\n",
              "      const buttonEl =\n",
              "        document.querySelector('#df-056acd7b-749f-4b88-8257-1624611666bb button.colab-df-convert');\n",
              "      buttonEl.style.display =\n",
              "        google.colab.kernel.accessAllowed ? 'block' : 'none';\n",
              "\n",
              "      async function convertToInteractive(key) {\n",
              "        const element = document.querySelector('#df-056acd7b-749f-4b88-8257-1624611666bb');\n",
              "        const dataTable =\n",
              "          await google.colab.kernel.invokeFunction('convertToInteractive',\n",
              "                                                    [key], {});\n",
              "        if (!dataTable) return;\n",
              "\n",
              "        const docLinkHtml = 'Like what you see? Visit the ' +\n",
              "          '<a target=\"_blank\" href=https://colab.research.google.com/notebooks/data_table.ipynb>data table notebook</a>'\n",
              "          + ' to learn more about interactive tables.';\n",
              "        element.innerHTML = '';\n",
              "        dataTable['output_type'] = 'display_data';\n",
              "        await google.colab.output.renderOutput(dataTable, element);\n",
              "        const docLink = document.createElement('div');\n",
              "        docLink.innerHTML = docLinkHtml;\n",
              "        element.appendChild(docLink);\n",
              "      }\n",
              "    </script>\n",
              "  </div>\n",
              "\n",
              "\n",
              "<div id=\"df-047b6f0a-becc-4991-8234-0f7dd962f375\">\n",
              "  <button class=\"colab-df-quickchart\" onclick=\"quickchart('df-047b6f0a-becc-4991-8234-0f7dd962f375')\"\n",
              "            title=\"Suggest charts\"\n",
              "            style=\"display:none;\">\n",
              "\n",
              "<svg xmlns=\"http://www.w3.org/2000/svg\" height=\"24px\"viewBox=\"0 0 24 24\"\n",
              "     width=\"24px\">\n",
              "    <g>\n",
              "        <path d=\"M19 3H5c-1.1 0-2 .9-2 2v14c0 1.1.9 2 2 2h14c1.1 0 2-.9 2-2V5c0-1.1-.9-2-2-2zM9 17H7v-7h2v7zm4 0h-2V7h2v10zm4 0h-2v-4h2v4z\"/>\n",
              "    </g>\n",
              "</svg>\n",
              "  </button>\n",
              "\n",
              "<style>\n",
              "  .colab-df-quickchart {\n",
              "      --bg-color: #E8F0FE;\n",
              "      --fill-color: #1967D2;\n",
              "      --hover-bg-color: #E2EBFA;\n",
              "      --hover-fill-color: #174EA6;\n",
              "      --disabled-fill-color: #AAA;\n",
              "      --disabled-bg-color: #DDD;\n",
              "  }\n",
              "\n",
              "  [theme=dark] .colab-df-quickchart {\n",
              "      --bg-color: #3B4455;\n",
              "      --fill-color: #D2E3FC;\n",
              "      --hover-bg-color: #434B5C;\n",
              "      --hover-fill-color: #FFFFFF;\n",
              "      --disabled-bg-color: #3B4455;\n",
              "      --disabled-fill-color: #666;\n",
              "  }\n",
              "\n",
              "  .colab-df-quickchart {\n",
              "    background-color: var(--bg-color);\n",
              "    border: none;\n",
              "    border-radius: 50%;\n",
              "    cursor: pointer;\n",
              "    display: none;\n",
              "    fill: var(--fill-color);\n",
              "    height: 32px;\n",
              "    padding: 0;\n",
              "    width: 32px;\n",
              "  }\n",
              "\n",
              "  .colab-df-quickchart:hover {\n",
              "    background-color: var(--hover-bg-color);\n",
              "    box-shadow: 0 1px 2px rgba(60, 64, 67, 0.3), 0 1px 3px 1px rgba(60, 64, 67, 0.15);\n",
              "    fill: var(--button-hover-fill-color);\n",
              "  }\n",
              "\n",
              "  .colab-df-quickchart-complete:disabled,\n",
              "  .colab-df-quickchart-complete:disabled:hover {\n",
              "    background-color: var(--disabled-bg-color);\n",
              "    fill: var(--disabled-fill-color);\n",
              "    box-shadow: none;\n",
              "  }\n",
              "\n",
              "  .colab-df-spinner {\n",
              "    border: 2px solid var(--fill-color);\n",
              "    border-color: transparent;\n",
              "    border-bottom-color: var(--fill-color);\n",
              "    animation:\n",
              "      spin 1s steps(1) infinite;\n",
              "  }\n",
              "\n",
              "  @keyframes spin {\n",
              "    0% {\n",
              "      border-color: transparent;\n",
              "      border-bottom-color: var(--fill-color);\n",
              "      border-left-color: var(--fill-color);\n",
              "    }\n",
              "    20% {\n",
              "      border-color: transparent;\n",
              "      border-left-color: var(--fill-color);\n",
              "      border-top-color: var(--fill-color);\n",
              "    }\n",
              "    30% {\n",
              "      border-color: transparent;\n",
              "      border-left-color: var(--fill-color);\n",
              "      border-top-color: var(--fill-color);\n",
              "      border-right-color: var(--fill-color);\n",
              "    }\n",
              "    40% {\n",
              "      border-color: transparent;\n",
              "      border-right-color: var(--fill-color);\n",
              "      border-top-color: var(--fill-color);\n",
              "    }\n",
              "    60% {\n",
              "      border-color: transparent;\n",
              "      border-right-color: var(--fill-color);\n",
              "    }\n",
              "    80% {\n",
              "      border-color: transparent;\n",
              "      border-right-color: var(--fill-color);\n",
              "      border-bottom-color: var(--fill-color);\n",
              "    }\n",
              "    90% {\n",
              "      border-color: transparent;\n",
              "      border-bottom-color: var(--fill-color);\n",
              "    }\n",
              "  }\n",
              "</style>\n",
              "\n",
              "  <script>\n",
              "    async function quickchart(key) {\n",
              "      const quickchartButtonEl =\n",
              "        document.querySelector('#' + key + ' button');\n",
              "      quickchartButtonEl.disabled = true;  // To prevent multiple clicks.\n",
              "      quickchartButtonEl.classList.add('colab-df-spinner');\n",
              "      try {\n",
              "        const charts = await google.colab.kernel.invokeFunction(\n",
              "            'suggestCharts', [key], {});\n",
              "      } catch (error) {\n",
              "        console.error('Error during call to suggestCharts:', error);\n",
              "      }\n",
              "      quickchartButtonEl.classList.remove('colab-df-spinner');\n",
              "      quickchartButtonEl.classList.add('colab-df-quickchart-complete');\n",
              "    }\n",
              "    (() => {\n",
              "      let quickchartButtonEl =\n",
              "        document.querySelector('#df-047b6f0a-becc-4991-8234-0f7dd962f375 button');\n",
              "      quickchartButtonEl.style.display =\n",
              "        google.colab.kernel.accessAllowed ? 'block' : 'none';\n",
              "    })();\n",
              "  </script>\n",
              "</div>\n",
              "\n",
              "    </div>\n",
              "  </div>\n"
            ],
            "application/vnd.google.colaboratory.intrinsic+json": {
              "type": "dataframe",
              "variable_name": "dataset",
              "summary": "{\n  \"name\": \"dataset\",\n  \"rows\": 623,\n  \"fields\": [\n    {\n      \"column\": \"Name\",\n      \"properties\": {\n        \"dtype\": \"string\",\n        \"num_unique_values\": 623,\n        \"samples\": [\n          \"Adam Wharton\",\n          \"Giorgi Kochorashvili\",\n          \"Ernest Muci\"\n        ],\n        \"semantic_type\": \"\",\n        \"description\": \"\"\n      }\n    },\n    {\n      \"column\": \"Position\",\n      \"properties\": {\n        \"dtype\": \"category\",\n        \"num_unique_values\": 13,\n        \"samples\": [\n          \"Right Midfield\",\n          \"Second Striker\",\n          \"Goalkeeper\"\n        ],\n        \"semantic_type\": \"\",\n        \"description\": \"\"\n      }\n    },\n    {\n      \"column\": \"Age\",\n      \"properties\": {\n        \"dtype\": \"number\",\n        \"std\": 4,\n        \"min\": 16,\n        \"max\": 41,\n        \"num_unique_values\": 24,\n        \"samples\": [\n          29,\n          35,\n          32\n        ],\n        \"semantic_type\": \"\",\n        \"description\": \"\"\n      }\n    },\n    {\n      \"column\": \"Club\",\n      \"properties\": {\n        \"dtype\": \"category\",\n        \"num_unique_values\": 219,\n        \"samples\": [\n          \"Girona FC\",\n          \"SS Lazio\",\n          \"Wolverhampton Wanderers\"\n        ],\n        \"semantic_type\": \"\",\n        \"description\": \"\"\n      }\n    },\n    {\n      \"column\": \"Height\",\n      \"properties\": {\n        \"dtype\": \"number\",\n        \"std\": 6,\n        \"min\": 167,\n        \"max\": 202,\n        \"num_unique_values\": 34,\n        \"samples\": [\n          192,\n          170,\n          169\n        ],\n        \"semantic_type\": \"\",\n        \"description\": \"\"\n      }\n    },\n    {\n      \"column\": \"Foot\",\n      \"properties\": {\n        \"dtype\": \"category\",\n        \"num_unique_values\": 4,\n        \"samples\": [\n          \"left\",\n          \"-\",\n          \"right\"\n        ],\n        \"semantic_type\": \"\",\n        \"description\": \"\"\n      }\n    },\n    {\n      \"column\": \"Caps\",\n      \"properties\": {\n        \"dtype\": \"number\",\n        \"std\": 30,\n        \"min\": 0,\n        \"max\": 206,\n        \"num_unique_values\": 113,\n        \"samples\": [\n          64,\n          25,\n          26\n        ],\n        \"semantic_type\": \"\",\n        \"description\": \"\"\n      }\n    },\n    {\n      \"column\": \"Goals\",\n      \"properties\": {\n        \"dtype\": \"number\",\n        \"std\": 10,\n        \"min\": 0,\n        \"max\": 128,\n        \"num_unique_values\": 39,\n        \"samples\": [\n          44,\n          46,\n          18\n        ],\n        \"semantic_type\": \"\",\n        \"description\": \"\"\n      }\n    },\n    {\n      \"column\": \"MarketValue\",\n      \"properties\": {\n        \"dtype\": \"number\",\n        \"std\": 24261948,\n        \"min\": 50000,\n        \"max\": 180000000,\n        \"num_unique_values\": 83,\n        \"samples\": [\n          75000000,\n          28000000,\n          7500000\n        ],\n        \"semantic_type\": \"\",\n        \"description\": \"\"\n      }\n    },\n    {\n      \"column\": \"Country\",\n      \"properties\": {\n        \"dtype\": \"category\",\n        \"num_unique_values\": 24,\n        \"samples\": [\n          \"Slovenia\",\n          \"Belgium\",\n          \"Germany\"\n        ],\n        \"semantic_type\": \"\",\n        \"description\": \"\"\n      }\n    }\n  ]\n}"
            }
          },
          "metadata": {},
          "execution_count": 143
        }
      ]
    },
    {
      "cell_type": "markdown",
      "source": [
        "O dataset apresenta informações sobre 623 jogadores de futebol profissional  relacionados na edição 2024 do **Campeonato Europeu de Futebol (EURO 2024)**, trazendo os seguintes atributos:\n",
        "\n",
        "* Name: Nome do jogador.\n",
        "* Position: Posição do jogador em campo.\n",
        "* Age: Idade do jogador.\n",
        "* Club: Clube do jogador.\n",
        "* Height: Altura do jogador (em centímetros).\n",
        "* Foot: Pé dominante.\n",
        "* Caps: Número de partidas internacionais.\n",
        "* Goals: Gols marcados pelo jogador em partidas internacionais.\n",
        "* MarketValue: Valor de mercado em euros.\n",
        "* Country: País do jogador."
      ],
      "metadata": {
        "id": "9jkS89yqMVkC"
      }
    },
    {
      "cell_type": "code",
      "source": [
        "# Informações gerais e resumo estatístico\n",
        "dataset.info()\n",
        "print(dataset.describe())\n",
        "\n",
        "# Verificar valores nulos\n",
        "print(\"Valores nulos por coluna:\")\n",
        "print(dataset.isnull().sum())"
      ],
      "metadata": {
        "colab": {
          "base_uri": "https://localhost:8080/"
        },
        "id": "I6mW42n7-Mhe",
        "outputId": "e554c659-703d-4852-80f3-34fd11c5b989"
      },
      "execution_count": 142,
      "outputs": [
        {
          "output_type": "stream",
          "name": "stdout",
          "text": [
            "<class 'pandas.core.frame.DataFrame'>\n",
            "RangeIndex: 623 entries, 0 to 622\n",
            "Data columns (total 10 columns):\n",
            " #   Column       Non-Null Count  Dtype \n",
            "---  ------       --------------  ----- \n",
            " 0   Name         623 non-null    object\n",
            " 1   Position     623 non-null    object\n",
            " 2   Age          623 non-null    int64 \n",
            " 3   Club         623 non-null    object\n",
            " 4   Height       623 non-null    int64 \n",
            " 5   Foot         620 non-null    object\n",
            " 6   Caps         623 non-null    int64 \n",
            " 7   Goals        623 non-null    int64 \n",
            " 8   MarketValue  623 non-null    int64 \n",
            " 9   Country      623 non-null    object\n",
            "dtypes: int64(5), object(5)\n",
            "memory usage: 48.8+ KB\n",
            "              Age      Height        Caps       Goals   MarketValue\n",
            "count  623.000000  623.000000  623.000000  623.000000  6.230000e+02\n",
            "mean    27.040128  184.181380   30.338684    4.152488  1.840903e+07\n",
            "std      4.124275    6.569258   30.987902   10.086803  2.426195e+07\n",
            "min     16.000000  167.000000    0.000000    0.000000  5.000000e+04\n",
            "25%     24.000000  180.000000    7.000000    0.000000  2.900000e+06\n",
            "50%     27.000000  185.000000   21.000000    1.000000  9.000000e+06\n",
            "75%     30.000000  189.000000   42.000000    4.000000  2.500000e+07\n",
            "max     41.000000  202.000000  206.000000  128.000000  1.800000e+08\n",
            "Valores nulos por coluna:\n",
            "Name           0\n",
            "Position       0\n",
            "Age            0\n",
            "Club           0\n",
            "Height         0\n",
            "Foot           3\n",
            "Caps           0\n",
            "Goals          0\n",
            "MarketValue    0\n",
            "Country        0\n",
            "dtype: int64\n"
          ]
        }
      ]
    },
    {
      "cell_type": "code",
      "source": [
        "# Substituir valores nulos na coluna \"Foot\" pela moda (pé dominante mais comum)\n",
        "dataset['Foot'].fillna(dataset['Foot'].mode()[0], inplace=True)\n",
        "# Transformação de variáveis em categóricas\n",
        "dataset['Position'] = dataset['Position'].astype('category')\n",
        "dataset['Club'] = dataset['Club'].astype('category')\n",
        "dataset['Foot'] = dataset['Foot'].astype('category')\n",
        "dataset.info()\n",
        "print(dataset.describe())"
      ],
      "metadata": {
        "id": "ovFnISHT-1X_",
        "colab": {
          "base_uri": "https://localhost:8080/"
        },
        "outputId": "4f6bd6d2-b6f0-4253-87a6-1e5dbd6810f3"
      },
      "execution_count": 145,
      "outputs": [
        {
          "output_type": "stream",
          "name": "stdout",
          "text": [
            "<class 'pandas.core.frame.DataFrame'>\n",
            "RangeIndex: 623 entries, 0 to 622\n",
            "Data columns (total 10 columns):\n",
            " #   Column       Non-Null Count  Dtype   \n",
            "---  ------       --------------  -----   \n",
            " 0   Name         623 non-null    object  \n",
            " 1   Position     623 non-null    category\n",
            " 2   Age          623 non-null    int64   \n",
            " 3   Club         623 non-null    category\n",
            " 4   Height       623 non-null    int64   \n",
            " 5   Foot         623 non-null    category\n",
            " 6   Caps         623 non-null    int64   \n",
            " 7   Goals        623 non-null    int64   \n",
            " 8   MarketValue  623 non-null    int64   \n",
            " 9   Country      623 non-null    object  \n",
            "dtypes: category(3), int64(5), object(2)\n",
            "memory usage: 47.3+ KB\n",
            "              Age      Height        Caps       Goals   MarketValue\n",
            "count  623.000000  623.000000  623.000000  623.000000  6.230000e+02\n",
            "mean    27.040128  184.181380   30.338684    4.152488  1.840903e+07\n",
            "std      4.124275    6.569258   30.987902   10.086803  2.426195e+07\n",
            "min     16.000000  167.000000    0.000000    0.000000  5.000000e+04\n",
            "25%     24.000000  180.000000    7.000000    0.000000  2.900000e+06\n",
            "50%     27.000000  185.000000   21.000000    1.000000  9.000000e+06\n",
            "75%     30.000000  189.000000   42.000000    4.000000  2.500000e+07\n",
            "max     41.000000  202.000000  206.000000  128.000000  1.800000e+08\n"
          ]
        }
      ]
    },
    {
      "cell_type": "markdown",
      "source": [
        "# 3. Análise Exploratória dos Dados"
      ],
      "metadata": {
        "id": "6DfXUjBYLRdl"
      }
    },
    {
      "cell_type": "markdown",
      "source": [
        "Foi gerado um histograma para visualizar a distribuição das idades dos jogadores. O gráfico foi complementado com uma curva de densidade (KDE) para destacar o padrão de concentração. Isso permitiu identificar que a maioria dos jogadores está em uma faixa etária de 20 a 30 anos, com uma concentração significativa em torno dos 27 anos."
      ],
      "metadata": {
        "id": "kIhZbAC6Meop"
      }
    },
    {
      "cell_type": "code",
      "source": [
        "# Gráficos de Distribuição Idades\n",
        "plt.figure(figsize=(15, 3))\n",
        "sns.histplot(dataset['Age'], bins=15, kde=True, color='skyblue')\n",
        "plt.title('Distribuição da Idade dos Jogadores')\n",
        "plt.xlabel('Idade')\n",
        "plt.ylabel('Frequência')\n",
        "plt.show()"
      ],
      "metadata": {
        "id": "5NH9XOGQLbid",
        "colab": {
          "base_uri": "https://localhost:8080/",
          "height": 333
        },
        "outputId": "f9b893ed-de76-4e43-8ccd-fc49a59dcfcf"
      },
      "execution_count": 113,
      "outputs": [
        {
          "output_type": "display_data",
          "data": {
            "text/plain": [
              "<Figure size 1500x300 with 1 Axes>"
            ],
            "image/png": "[encoded data removed]"
          },
          "metadata": {}
        }
      ]
    },
    {
      "cell_type": "markdown",
      "source": [
        "Adicionalmente, foi  utilizado um boxplot para comparar os valores de mercado dos jogadores agrupados por suas posições em campo. Essa visualização destacou:\n",
        "1. A variabilidade dos valores de mercado em cada posição.\n",
        "2. A presença de possíveis outliers, especialmente em posições como atacantes e meio-campistas, que frequentemente apresentam jogadores de alto valor de mercado."
      ],
      "metadata": {
        "id": "zSInxYzwB7CB"
      }
    },
    {
      "cell_type": "code",
      "source": [
        "# Gráficos de Distribuição valor de mercado por posições\n",
        "plt.figure(figsize=(15, 6))\n",
        "sns.boxplot(data=dataset, x='Position', y='MarketValue')\n",
        "plt.title('Distribuição do Valor de Mercado por Posição')\n",
        "plt.xticks(rotation=45)\n",
        "plt.show()"
      ],
      "metadata": {
        "colab": {
          "base_uri": "https://localhost:8080/",
          "height": 651
        },
        "id": "hosBfWkIB78i",
        "outputId": "cd534622-a9f2-4aaf-f2bb-940a4cbe603d"
      },
      "execution_count": 129,
      "outputs": [
        {
          "output_type": "display_data",
          "data": {
            "text/plain": [
              "<Figure size 1500x600 with 1 Axes>"
            ],
            "image/png": "[encoded data removed]"
          },
          "metadata": {}
        }
      ]
    },
    {
      "cell_type": "markdown",
      "source": [
        "Por fim, objetivando a  exploração das relações entre variáveis como idade, altura, partidas jogadas, gols e valor de mercado, foi gerado um mapa de calor (heatmap) de correlação. Os resultados mostraram:\n",
        "1. Correlações positivas entre partidas jogadas e valor de mercado, indicando que jogadores mais experientes tendem a ter maior valorização.\n",
        "2. Uma correlação moderada entre gols marcados e valor de mercado, particularmente relevante para atacantes."
      ],
      "metadata": {
        "id": "GA_XA5Kf__zH"
      }
    },
    {
      "cell_type": "code",
      "source": [
        "# Correlações entre variáveis numéricas\n",
        "plt.figure(figsize=(6,6))\n",
        "corr = dataset[['Age', 'Height', 'Caps', 'Goals', 'MarketValue']].corr()\n",
        "sns.heatmap(corr, annot=True, cmap='coolwarm', fmt='.2f')\n",
        "plt.title('Mapa de Calor das Correlações')\n",
        "plt.show()"
      ],
      "metadata": {
        "colab": {
          "base_uri": "https://localhost:8080/",
          "height": 545
        },
        "id": "N9W6a4EHAAKp",
        "outputId": "ac37a083-07da-47d2-a6e4-3999dc8465f3"
      },
      "execution_count": 128,
      "outputs": [
        {
          "output_type": "display_data",
          "data": {
            "text/plain": [
              "<Figure size 600x600 with 2 Axes>"
            ],
            "image/png": "[encoded data removed]"
          },
          "metadata": {}
        }
      ]
    },
    {
      "cell_type": "markdown",
      "source": [
        "# 4. Tratamento da Base de Dados"
      ],
      "metadata": {
        "id": "7wyAQO2NLXm9"
      }
    },
    {
      "cell_type": "markdown",
      "source": [
        "* Separe o dataset entre treino e teste (e validação, se aplicável).\n",
        "* Faz sentido utilizar um método de validação cruzada? Justifique se não utilizar.\n",
        "* Verifique quais operações de transformação de dados (como normalização e padronização, transformação de imagens em tensores) são mais apropriadas para o seu problema e salve visões diferentes do seu dataset para posterior avaliação dos modelos.\n",
        "* Refine a quantidade de atributos disponíveis, realizando o processo de feature selection de forma adequada."
      ],
      "metadata": {
        "id": "uQ4TBUAbMl8N"
      }
    },
    {
      "cell_type": "markdown",
      "source": [
        "No caso do dataset utilizado, a separação entre treino e teste deve ser feita para garantir a capacidade de generalização dos modelos.\n",
        "\n",
        "Como o dataset utilizado são dados de corte transversal (cross section), cujas estruturas de dados tabulares foram coletados em apenas um período no tempo, uma divisão aleatória torna-se adequada.\n",
        "\n",
        "Isto posto, procedeu-se a separação seguindo o padrão 70-15-15 para treino, teste e validação."
      ],
      "metadata": {
        "id": "rrFY_PWvCzea"
      }
    },
    {
      "cell_type": "code",
      "source": [
        "# Separar variáveis independentes (X) e dependente (y)\n",
        "X = dataset.drop(columns=[\"MarketValue\", \"Name\", \"Country\", \"Club\"], errors=\"ignore\")  # Remover colunas irrelevantes\n",
        "Y = dataset[\"MarketValue\"]\n",
        "\n",
        "categorical_columns = [\"Position\", \"Foot\"]  # Colunas categóricas identificadas\n",
        "X = pd.get_dummies(X, columns=categorical_columns, drop_first=True)\n",
        "\n",
        "# Dividir em treino, validação e teste (70%, 15%, 15%)\n",
        "X_train, X_temp, Y_train, Y_temp = train_test_split(X, Y, test_size=0.3, random_state=42)\n",
        "X_val, X_test, Y_val, Y_test = train_test_split(X_temp, Y_temp, test_size=0.5, random_state=42)\n",
        "\n",
        "print(\"Tamanhos dos conjuntos:\")\n",
        "print(f\"Treino: {X_train.shape}, Validação: {X_val.shape}, Teste: {X_test.shape}\")"
      ],
      "metadata": {
        "id": "TugAu4GPLrHW",
        "colab": {
          "base_uri": "https://localhost:8080/"
        },
        "outputId": "05a04c87-fda2-4396-b457-b72ab4a5703d"
      },
      "execution_count": 161,
      "outputs": [
        {
          "output_type": "stream",
          "name": "stdout",
          "text": [
            "Tamanhos dos conjuntos:\n",
            "Treino: (436, 19), Validação: (93, 19), Teste: (94, 19)\n"
          ]
        }
      ]
    },
    {
      "cell_type": "markdown",
      "source": [
        "Uma vez que o conjunto de dados é limitado e a validação cruzada pode ajudar a avaliar a robustez de modelos alternativos, especialmente em etapas de seleção de atributos e ajuste de hiperparâmetros\n"
      ],
      "metadata": {
        "id": "y_oaWgchIgdo"
      }
    },
    {
      "cell_type": "code",
      "source": [
        "# 2. Transformações de dados\n",
        "# a) Padronização (Z-Score)\n",
        "scaler_standard = StandardScaler()\n",
        "X_train_standard = scaler_standard.fit_transform(X_train)\n",
        "X_val_standard = scaler_standard.transform(X_val)\n",
        "X_test_standard = scaler_standard.transform(X_test)\n",
        "\n",
        "# b) Normalização (0 a 1)\n",
        "scaler_minmax = MinMaxScaler()\n",
        "X_train_minmax = scaler_minmax.fit_transform(X_train)\n",
        "X_val_minmax = scaler_minmax.transform(X_val)\n",
        "X_test_minmax = scaler_minmax.transform(X_test)\n",
        "\n",
        "print(\"\\nTransformações concluídas (padronização e normalização).\")"
      ],
      "metadata": {
        "colab": {
          "base_uri": "https://localhost:8080/"
        },
        "id": "x9THGOBDL9Eo",
        "outputId": "b3f74c86-dcc5-4cd4-9bdb-29cdc52c5942"
      },
      "execution_count": 164,
      "outputs": [
        {
          "output_type": "stream",
          "name": "stdout",
          "text": [
            "\n",
            "Transformações concluídas (padronização e normalização).\n"
          ]
        }
      ]
    },
    {
      "cell_type": "markdown",
      "source": [
        "# 5. Modelagem e Análise dos Resultados"
      ],
      "metadata": {
        "id": "BdvZ4IjzLrXV"
      }
    },
    {
      "cell_type": "markdown",
      "source": [
        "**Modelagem e Treinamento**\n",
        "* Selecione os algoritmos mais indicados para o problema e dataset escolhidos, justificando as suas escolhas.\n",
        "* Há algum ajuste inicial para os hiperparâmetros?\n",
        "* O modelo foi devidamente treinado? Foi observado problema de underfitting?\n",
        "* É possível otimizar os hiperparâmetros de algum dos modelos? Se sim, faça-o, justificando todas as escolhas.\n",
        "* Há algum método avançado ou mais complexo que possa ser avaliado?\n",
        "* Posso criar um comitê de modelos diferentes para o problema (ensembles)?"
      ],
      "metadata": {
        "id": "rK1s0BfvMt-k"
      }
    },
    {
      "cell_type": "markdown",
      "source": [
        "Dado que o problema envolve prever uma variável contínua (MarketValue), trata-se de um problema de regressão. Para este tipo de problema, os algoritmos mais indicados incluem: linear regression; decision trees; e random forest\n",
        "Como o dataset não é extremamente grande e a relação entre as variáveis parece ter algum grau de não-linearidade, começaremos com modelos mais simples (como Linear Regression e Decision Trees). Após isso, avançaremos para modelos mais robustos (Random Forest).\n"
      ],
      "metadata": {
        "id": "PkDJAZqKgJ8b"
      }
    },
    {
      "cell_type": "code",
      "source": [
        "# Treinar diferentes modelos\n",
        "models = {\n",
        "    \"Linear Regression\": LinearRegression(),\n",
        "    \"Decision Tree\": DecisionTreeRegressor(max_depth=5),\n",
        "    \"Random Forest\": RandomForestRegressor(n_estimators=100, max_depth=10, random_state=42)\n",
        "}\n",
        "\n",
        "# Avaliar cada modelo\n",
        "results = {}\n",
        "for model_name, model in models.items():\n",
        "    # Treinar o modelo\n",
        "    model.fit(X_train, Y_train)\n",
        "\n",
        "    # Previsões\n",
        "    y_train_pred = model.predict(X_train)\n",
        "    y_val_pred = model.predict(X_val)\n",
        "\n",
        "    # Métricas\n",
        "    train_rmse = np.sqrt(mean_squared_error(Y_train, y_train_pred))\n",
        "    val_rmse = np.sqrt(mean_squared_error(Y_val, y_val_pred))\n",
        "    train_r2 = r2_score(Y_train, y_train_pred)\n",
        "    val_r2 = r2_score(Y_val, y_val_pred)\n",
        "\n",
        "    # Armazenar resultados\n",
        "    results[model_name] = {\n",
        "        \"Train RMSE\": train_rmse,\n",
        "        \"Validation RMSE\": val_rmse,\n",
        "        \"Train R2\": train_r2,\n",
        "        \"Validation R2\": val_r2\n",
        "    }\n",
        "\n",
        "# Exibir os resultados\n",
        "for model_name, metrics in results.items():\n",
        "    print(f\"\\n{model_name}:\")\n",
        "    for metric_name, value in metrics.items():\n",
        "        print(f\"  {metric_name}: {value:.4f}\")"
      ],
      "metadata": {
        "colab": {
          "base_uri": "https://localhost:8080/"
        },
        "id": "5PrbT-KOdWNA",
        "outputId": "d25798d9-a001-4790-d218-107e1e411d66"
      },
      "execution_count": 165,
      "outputs": [
        {
          "output_type": "stream",
          "name": "stdout",
          "text": [
            "\n",
            "Linear Regression:\n",
            "  Train RMSE: 21658963.4973\n",
            "  Validation RMSE: 18031772.2289\n",
            "  Train R2: 0.2551\n",
            "  Validation R2: -0.0681\n",
            "\n",
            "Decision Tree:\n",
            "  Train RMSE: 17583891.9361\n",
            "  Validation RMSE: 21967751.1108\n",
            "  Train R2: 0.5091\n",
            "  Validation R2: -0.5853\n",
            "\n",
            "Random Forest:\n",
            "  Train RMSE: 9982830.0278\n",
            "  Validation RMSE: 17729806.5467\n",
            "  Train R2: 0.8418\n",
            "  Validation R2: -0.0326\n"
          ]
        }
      ]
    },
    {
      "cell_type": "markdown",
      "source": [
        "1. A Regressão Linear: apresenta um desempenho muito limitado (underfitting).\n",
        "O valor de R² no treino (0.2551) é baixo, indicando que o modelo explica apenas cerca de 25% da variação nos dados de treino. O R² negativo na validação (-0.0681) indica que o modelo não é capaz de generalizar para novos dados.\n",
        "Com isso, o modelo de regressão não se mostra adequado para o problema, possivelmente devido à complexidade e não-linearidade dos dados.\n",
        "\n",
        "2. Decision Tree: o R² no treino (0.5091) é maior que o da Regressão Linear, sugerindo que está capturando melhor a relação entre as variáveis.\n",
        "Contudo, o desempenho no conjunto de validação é muito ruim (R² = -0.5853)indica possivel overfitting. O modelo se ajusta bem aos dados de treino, mas falha ao generalizar para dados desconhecidos (overfitting). O alto RMSE na validação reforça a ideia de overfitting.\n",
        "Assim, o modelo precisa de regularização (limitação da profundidade, divisão mínima ou outros parâmetros) para reduzir o overfitting.\n",
        "\n",
        "3. Random Forest: apresenta o menor RMSE no conjunto de treino (9,982,830) e um\n",
        "R² alto (0.8418), indicando que o modelo ajusta bem os dados de treino. Contudo, o  R² na validação (-0.0326) é negativo, mostrando que o modelo ainda tem dificuldades em generalizar para novos dados (overfitting).\n",
        "O RMSE na validação é menor do que os modelos anteriores, mas ainda é alto, indicando que o Random Forest é promissor, mas requer ajustes nos hiperparâmetros.\n",
        "Isto posto, o modelo Random Forest é o modelo com maior potencial, mas ainda precisa de otimização para melhorar sua generalização."
      ],
      "metadata": {
        "id": "6EfMs2Zji41G"
      }
    },
    {
      "cell_type": "markdown",
      "source": [
        "Cada modelo possui hiperparâmetros básicos que podem ser ajustados inicialmente. Aqui estão os ajustes iniciais recomendados:\n",
        "\n",
        "1. Regressão Linear: sem hiperparâmetros críticos para o ajuste inicial.\n",
        "\n",
        "2. Decision Tree: max_depth (Controla a profundidade máxima da árvore para evitar overfitting); min_samples_split (Mínimo de amostras para dividir um nó).\n",
        "\n",
        "3. Random Forest: n_estimators (Número de árvores no ensemble, inicialmente propusemos iniciar com 100); max_depth (Profundidade máxima das árvores); e max_features(Número máximo de features consideradas para cada divisão)."
      ],
      "metadata": {
        "id": "catGC0jYhIkd"
      }
    },
    {
      "cell_type": "code",
      "source": [
        "# Avaliar cada modelo com validação cruzada k-fold\n",
        "k = 5  # Número de folds para validação cruzada\n",
        "cv_results = {}\n",
        "\n",
        "for model_name, model in models.items():\n",
        "    # Calcular scores de validação cruzada para RMSE (neg_mean_squared_error)\n",
        "    neg_mse_scores = cross_val_score(\n",
        "        model, X_train, Y_train, cv=k, scoring=\"neg_mean_squared_error\"\n",
        "    )\n",
        "    rmse_scores = np.sqrt(-neg_mse_scores)  # Converter MSE para RMSE\n",
        "\n",
        "    # Armazenar os resultados\n",
        "    cv_results[model_name] = {\n",
        "        \"Mean RMSE\": np.mean(rmse_scores),\n",
        "        \"Std RMSE\": np.std(rmse_scores),\n",
        "        \"RMSE Scores\": rmse_scores\n",
        "    }\n",
        "\n",
        "# Exibir os resultados da validação cruzada\n",
        "for model_name, metrics in cv_results.items():\n",
        "    print(f\"\\n{model_name}:\")\n",
        "    print(f\"  Mean RMSE: {metrics['Mean RMSE']:.4f}\")\n",
        "    print(f\"  Std RMSE: {metrics['Std RMSE']:.4f}\")\n",
        "    print(f\"  RMSE Scores: {metrics['RMSE Scores']}\")"
      ],
      "metadata": {
        "colab": {
          "base_uri": "https://localhost:8080/"
        },
        "id": "jdDsT2dfhvts",
        "outputId": "7a02219e-6120-48dc-c5a2-390e40039316"
      },
      "execution_count": 166,
      "outputs": [
        {
          "output_type": "stream",
          "name": "stdout",
          "text": [
            "\n",
            "Linear Regression:\n",
            "  Mean RMSE: 22611920.8329\n",
            "  Std RMSE: 1995914.2024\n",
            "  RMSE Scores: [25465812.05121676 21055705.06396722 24028971.85759356 22607140.56720403\n",
            " 19901974.62442717]\n",
            "\n",
            "Decision Tree:\n",
            "  Mean RMSE: 25008171.1943\n",
            "  Std RMSE: 1634448.0189\n",
            "  RMSE Scores: [26781983.75055929 24915667.36403921 26906534.86486578 23527625.98285462\n",
            " 22909044.00903651]\n",
            "\n",
            "Random Forest:\n",
            "  Mean RMSE: 23281852.8073\n",
            "  Std RMSE: 1386159.2984\n",
            "  RMSE Scores: [25078871.05092495 22222918.3104045  24842951.2212514  21835257.01033843\n",
            " 22429266.4435034 ]\n"
          ]
        }
      ]
    },
    {
      "cell_type": "markdown",
      "source": [
        "1. Linear Regression:\n",
        "A RMSE média é mais baixa que a Decision Tree, mas ainda alta, indicando que o modelo linear é insuficiente para capturar toda a complexidade dos dados.\n",
        "O desvio padrão é elevado (quase 2M), sugerindo que o modelo é sensível a diferentes divisões dos dados.\n",
        "A Regressão Linear ainda apresenta desempenho limitado e não é a melhor escolha para este problema.\n",
        "\n",
        "2. Decision Tree:\n",
        "A RMSE média é mais alta que a Regressão Linear, indicando pior desempenho geral.\n",
        "O desvio padrão é semelhante ao da Linear Regression, mostrando certa consistência entre os folds.\n",
        "A Decision Tree provavelmente sofre de overfitting, pois sua performance em validação é inferior ao treino. Mesmo limitada a uma profundidade máxima de 5, ela não generaliza bem.\n",
        "Embora fácil de interpretar, a Decision Tree não é adequada sem ajustes adicionais.\n",
        "\n",
        "3. Random Forest\n",
        "A RMSE média é a menor entre os três modelos, mostrando que o Random Forest é o mais eficaz em capturar padrões nos dados.\n",
        "O desvio padrão é o menor (1.38M), indicando maior estabilidade e menor sensibilidade às divisões dos dados.\n",
        "A Random Forest ainda apresenta espaço para otimização de hiperparâmetros (por exemplo, ajustando max_depth, n_estimators, etc.) para reduzir ainda mais o erro.\n",
        "Assim, o Random Forest é o melhor modelo até agora, com bom equilíbrio entre desempenho e estabilidade."
      ],
      "metadata": {
        "id": "RC_d0CX2nRwf"
      }
    },
    {
      "cell_type": "code",
      "source": [
        "# Definir os parâmetros a serem testados no Grid Search\n",
        "param_grid = {\n",
        "    \"n_estimators\": [100, 200, 300],  # Número de árvores\n",
        "    \"max_depth\": [5, 10, 15, None],  # Profundidade máxima\n",
        "    \"min_samples_split\": [2, 5, 10],  # Divisões mínimas de amostras em um nó\n",
        "    \"min_samples_leaf\": [1, 2, 4],  # Número mínimo de amostras por folha\n",
        "    \"max_features\": [\"sqrt\", \"log2\", None]  # Número máximo de features consideradas por divisão\n",
        "}\n",
        "\n",
        "# Configurar o modelo Random Forest\n",
        "rf_model = RandomForestRegressor(random_state=42)\n",
        "\n",
        "# Configurar o Grid Search com validação cruzada\n",
        "grid_search = GridSearchCV(\n",
        "    estimator=rf_model,\n",
        "    param_grid=param_grid,\n",
        "    scoring=\"neg_mean_squared_error\",  # Usar erro quadrático médio negativo\n",
        "    cv=5,  # Número de folds para validação cruzada\n",
        "    verbose=2,\n",
        "    n_jobs=-1\n",
        ")\n",
        "\n",
        "# Realizar o Grid Search nos dados de treino\n",
        "grid_search.fit(X_train, Y_train)\n",
        "\n",
        "# Recuperar os melhores parâmetros e o melhor desempenho\n",
        "best_params = grid_search.best_params_\n",
        "best_score = -grid_search.best_score_  # Converter para positivo (MSE)\n",
        "best_rmse = best_score ** 0.5  # Converter MSE para RMSE\n",
        "\n",
        "print(\"Melhores parâmetros encontrados:\", best_params)\n",
        "print(\"Melhor RMSE obtido:\", best_rmse)"
      ],
      "metadata": {
        "colab": {
          "base_uri": "https://localhost:8080/"
        },
        "id": "IKVyQukIoiiG",
        "outputId": "d56610c0-e1d4-4c03-fc31-8adb55e332e5"
      },
      "execution_count": 168,
      "outputs": [
        {
          "output_type": "stream",
          "name": "stdout",
          "text": [
            "Fitting 5 folds for each of 324 candidates, totalling 1620 fits\n",
            "Melhores parâmetros encontrados: {'max_depth': 10, 'max_features': None, 'min_samples_leaf': 4, 'min_samples_split': 10, 'n_estimators': 300}\n",
            "Melhor RMSE obtido: 22324981.79602988\n"
          ]
        }
      ]
    },
    {
      "cell_type": "markdown",
      "source": [
        "\n",
        "Interpretação dos Resultados do Grid Search:\n",
        "Foram avaliadas 324 combinações diferentes de hiperparâmetros usando validação cruzada com 5 folds, totalizando 1.620 ajustes individuais.\n",
        "\n",
        "1. Hiperparâmetros avaliados:\n",
        "* n_estimators: Número de árvores na floresta (100, 200, 300).\n",
        "* max_depth: Profundidade máxima de cada árvore (5, 10, 15, None).\n",
        "* min_samples_split: Número mínimo de amostras necessário para dividir um nó (2, 5, 10).\n",
        "* min_samples_leaf: Número mínimo de amostras em cada folha (1, 2, 4).\n",
        "* max_features: Número máximo de features consideradas em cada divisão (sqrt, log2, None).\n",
        "\n",
        "2. Melhor Combinação de Hiperparâmetros Encontrado:\n",
        "* max_depth = 10: Limita a profundidade das árvores para evitar overfitting e reduzir a complexidade do modelo.\n",
        "* max_features = None: Considera todas as features disponíveis em cada divisão, o que permite árvores mais complexas.\n",
        "* min_samples_leaf = 4: Cada folha (nó terminal) deve ter pelo menos 4 amostras, evitando divisões desnecessárias e melhorando a generalização.\n",
        "* min_samples_split = 10: Um nó só será dividido se houver pelo menos 10 amostras, prevenindo divisões muito específicas que levam ao overfitting.\n",
        "* n_estimators = 300: O modelo utiliza 300 árvores, aumentando a estabilidade e a robustez.\n",
        "\n",
        "3. Métrica de Desempenho\n",
        "O RMSE representa o erro médio nas previsões, em termos absolutos, com unidades da variável-alvo (MarketValue). Esse valor é mais baixo do que os obtidos pelos modelos anteriores, indicando uma melhoria na performance.\n",
        "Ainda assim, o erro é alto, o que pode indicar grande variabilidade nos valores-alvo."
      ],
      "metadata": {
        "id": "Z_S6ArLyrGkt"
      }
    },
    {
      "cell_type": "code",
      "source": [
        "# Criar o modelo Random Forest com os melhores hiperparâmetros encontrados\n",
        "optimized_rf_model = RandomForestRegressor(\n",
        "    n_estimators=300,\n",
        "    max_depth=10,\n",
        "    min_samples_split=10,\n",
        "    min_samples_leaf=4,\n",
        "    max_features=None,\n",
        "    random_state=42\n",
        ")\n",
        "\n",
        "# Treinar o modelo otimizado com os dados de treino\n",
        "optimized_rf_model.fit(X_train, Y_train)\n",
        "\n",
        "# Fazer previsões no conjunto de validação\n",
        "y_val_pred = optimized_rf_model.predict(X_val)\n",
        "\n",
        "# Avaliar o modelo otimizado\n",
        "val_rmse = np.sqrt(mean_squared_error(Y_val, y_val_pred))\n",
        "val_r2 = r2_score(Y_val, y_val_pred)\n",
        "\n",
        "# Exibir os resultados\n",
        "print(\"Avaliação do Modelo Otimizado:\")\n",
        "print(f\"RMSE no conjunto de validação: {val_rmse:.2f}\")\n",
        "print(f\"R² no conjunto de validação: {val_r2:.4f}\")"
      ],
      "metadata": {
        "colab": {
          "base_uri": "https://localhost:8080/"
        },
        "id": "PuhGP7MErSPA",
        "outputId": "34ce35ef-a122-4e14-9d3a-50c595fe22c2"
      },
      "execution_count": 169,
      "outputs": [
        {
          "output_type": "stream",
          "name": "stdout",
          "text": [
            "Avaliação do Modelo Otimizado:\n",
            "RMSE no conjunto de validação: 17206523.86\n",
            "R² no conjunto de validação: 0.0274\n"
          ]
        }
      ]
    },
    {
      "cell_type": "markdown",
      "source": [
        "Apesar de melhorias no RMSE com os hiperparâmetros otimizados, o desempenho geral do modelo permanece limitado, com R² baixo. O problema pode exigir dados mais ricos ou modelos avançados para capturar a complexidade da relação entre as variáveis preditoras e os valores de mercado."
      ],
      "metadata": {
        "id": "MxCNqu-BtM4C"
      }
    },
    {
      "cell_type": "markdown",
      "source": [
        "#CONCLUSÃO"
      ],
      "metadata": {
        "id": "84z1vKKstqd4"
      }
    },
    {
      "cell_type": "markdown",
      "source": [
        "O objetivo deste trabalho foi desenvolver um modelo preditivo capaz de estimar o valor de mercado de atletas com base em variáveis como idade, posição, altura e histórico na seleção. Utilizando diferentes algoritmos de aprendizado de máquina, como Regressão Linear, Decision Tree e Random Forest, este último ainda foi otimizado por meio de ajuste de hiperparâmetros via Grid Search.\n",
        "\n",
        "Apesar das melhorias obtidas, o desempenho do modelo foi limitado pelas seguintes razões:\n",
        "\n",
        "* Ausência de Dados Estatísticos Detalhados: O valor de mercado de um atleta é influenciado por métricas que não estão presentes no dataset atual, como:\n",
        "Estatísticas individuais de desempenho em competições (gols, assistências, passes decisivos); participação em grandes torneios (Liga dos Campeões, Copas do Mundo); avaliação de desempenho físico e técnico recente.\n",
        "Esses fatores têm um impacto direto na percepção de mercado e, consequentemente, no valor do atleta.\n",
        "\n",
        "* Alta Variabilidade na Variável-Alvo (MarketValue): valores de mercado variam amplamente, muitas vezes influenciados por fatores externos (popularidade do clube, demanda específica do mercado de transferências, expectativas futuras sobre o potencial do atleta).\n",
        "\n",
        "* Possível Presença de Outliers: a análise exploratória revelou possíveis valores extremos em MarketValue, que distorcem os resultados do modelo e aumentam o erro médio.\n",
        "\n",
        "A incorporação de dados estatísticos detalhados de competições prévias é essencial para capturar a complexidade que define o valor de mercado de um atleta. Sem esses dados, os modelos de aprendizado de máquina permanecem limitados em sua capacidade preditiva, como demonstrado pelos baixos valores de\n",
        "R² obtidos neste estudo. Assim, uma base de dados mais robusta, combinada com técnicas avançadas de modelagem, tem o potencial de gerar estimativas significativamente mais precisas e úteis para stakeholders do mercado esportivo.\n",
        "\n",
        "Caso haja interesse em expandir este estudo, a construção ou integração de datasets mais completos é uma prioridade. Modelos avançados, como Gradient Boosting ou Redes Neurais, também podem ser explorados para aproveitar plenamente os dados adicionais."
      ],
      "metadata": {
        "id": "DfiR5TRetsm9"
      }
    }
  ]
}